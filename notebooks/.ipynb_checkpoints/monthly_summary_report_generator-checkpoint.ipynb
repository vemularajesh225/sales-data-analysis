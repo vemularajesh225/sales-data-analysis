{
 "cells": [
  {
   "cell_type": "code",
   "execution_count": null,
   "id": "a693792d",
   "metadata": {},
   "outputs": [],
   "source": [
    "# monthly_summary_report_generator.ipynb\n",
    "\n",
    "import pandas as pd\n",
    "import matplotlib.pyplot as plt\n",
    "import os"
   ]
  },
  {
   "cell_type": "code",
   "execution_count": null,
   "id": "a3fd0fc3",
   "metadata": {},
   "outputs": [],
   "source": [
    "# Load cleaned data\n",
    "df = pd.read_csv('../data/cleaned_sales_data.csv')\n",
    "df['Order_Date'] = pd.to_datetime(df['Order_Date'])"
   ]
  },
  {
   "cell_type": "code",
   "execution_count": null,
   "id": "b02811a9",
   "metadata": {},
   "outputs": [],
   "source": [
    "# Create monthly and quarterly summaries\n",
    "df['Month'] = df['Order_Date'].dt.month\n",
    "df['Year'] = df['Order_Date'].dt.year\n",
    "df['Quarter'] = df['Order_Date'].dt.quarter\n",
    "df['Month_Year'] = df['Order_Date'].dt.to_period('M')"
   ]
  },
  {
   "cell_type": "code",
   "execution_count": null,
   "id": "2ac721b1",
   "metadata": {},
   "outputs": [],
   "source": [
    "# Set report paths\n",
    "monthly_report_path = '../reports/monthly_sales_report_March_2025.pdf'\n",
    "quarterly_report_path = '../reports/quarterly_sales_summary_Q1_2025.csv'"
   ]
  },
  {
   "cell_type": "code",
   "execution_count": null,
   "id": "5de12e2c",
   "metadata": {},
   "outputs": [],
   "source": [
    "# ✅ Monthly Report (March 2025)\n",
    "march_df = df[(df['Year'] == 2025) & (df['Month'] == 3)]\n",
    "\n",
    "monthly_summary = march_df.groupby('Product')[['Units_Sold', 'Revenue']].sum().sort_values(by='Revenue', ascending=False)\n",
    "monthly_summary.reset_index(inplace=True)"
   ]
  },
  {
   "cell_type": "code",
   "execution_count": null,
   "id": "0fce4e67",
   "metadata": {},
   "outputs": [],
   "source": [
    "# Save as PDF (via plot + savefig)\n",
    "plt.figure(figsize=(10,6))\n",
    "plt.bar(monthly_summary['Product'], monthly_summary['Revenue'], color='skyblue')\n",
    "plt.title('March 2025 - Revenue by Product')\n",
    "plt.xticks(rotation=45, ha='right')\n",
    "plt.ylabel('Revenue')\n",
    "plt.tight_layout()\n",
    "plt.savefig(monthly_report_path)\n",
    "plt.close()"
   ]
  },
  {
   "cell_type": "code",
   "execution_count": null,
   "id": "45a8f8b7",
   "metadata": {},
   "outputs": [],
   "source": [
    "# ✅ Quarterly CSV Summary (Q1 2025)\n",
    "q1_df = df[(df['Year'] == 2025) & (df['Quarter'] == 1)]\n",
    "quarterly_summary = q1_df.groupby(['Month', 'Product'])[['Units_Sold', 'Revenue']].sum().reset_index()\n",
    "quarterly_summary.to_csv(quarterly_report_path, index=False)\n"
   ]
  },
  {
   "cell_type": "code",
   "execution_count": null,
   "id": "213eb83a",
   "metadata": {},
   "outputs": [],
   "source": [
    "print(\"Reports saved:\")\n",
    "print(f\" - Monthly PDF: {monthly_report_path}\")\n",
    "print(f\" - Quarterly CSV: {quarterly_report_path}\")"
   ]
  }
 ],
 "metadata": {
  "kernelspec": {
   "display_name": "Python 3",
   "language": "python",
   "name": "python3"
  },
  "language_info": {
   "name": "python",
   "version": "3.10.7"
  }
 },
 "nbformat": 4,
 "nbformat_minor": 5
}
